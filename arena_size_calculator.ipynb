{
  "nbformat": 4,
  "nbformat_minor": 0,
  "metadata": {
    "colab": {
      "private_outputs": true,
      "provenance": []
    },
    "kernelspec": {
      "name": "python3",
      "display_name": "Python 3"
    },
    "language_info": {
      "name": "python"
    }
  },
  "cells": [
    {
      "cell_type": "markdown",
      "source": [
        "install clang version 9"
      ],
      "metadata": {
        "id": "MY82m6OkX6la"
      }
    },
    {
      "cell_type": "code",
      "source": [
        "!wget https://apt.llvm.org/llvm.sh\n",
        "!chmod +x llvm.sh\n",
        "!./llvm.sh 9"
      ],
      "metadata": {
        "id": "YH_pdbE8RD_V"
      },
      "execution_count": null,
      "outputs": []
    },
    {
      "cell_type": "markdown",
      "source": [
        "verify they have been installed"
      ],
      "metadata": {
        "id": "Dtm9Aa5QX-Js"
      }
    },
    {
      "cell_type": "code",
      "source": [
        "!/usr/bin/clang-9 --version\n",
        "!/usr/bin/clang++-9 --version"
      ],
      "metadata": {
        "id": "v2Jz1nNVRiZ2"
      },
      "execution_count": null,
      "outputs": []
    },
    {
      "cell_type": "markdown",
      "source": [
        "clone the arena size calculator"
      ],
      "metadata": {
        "id": "Fsyc2Z6gYApu"
      }
    },
    {
      "cell_type": "code",
      "source": [
        "!git clone --recurse-submodules https://github.com/edgeimpulse/tflite-find-arena-size\n",
        "import os\n",
        "os.chdir(\"tflite-find-arena-size\")"
      ],
      "metadata": {
        "id": "_LC4NHIiV3Yg"
      },
      "execution_count": null,
      "outputs": []
    },
    {
      "cell_type": "markdown",
      "source": [
        "point the makefile to version 9 of clang (ideally this would be done with update-alternatives or `llvm-defaults` but this is an easy hack)"
      ],
      "metadata": {
        "id": "mzT-EMctYC3M"
      }
    },
    {
      "cell_type": "code",
      "source": [
        "newmake = \"\"\"NAME = find-arena-size\n",
        "\n",
        "CC = /usr/bin/clang-9\n",
        "CXX = /usr/bin/clang++-9\n",
        "CFLAGS ?= -Wall\n",
        "\n",
        "MACROS += -DTF_LITE_DISABLE_X86_NEON\n",
        "CXXFLAGS += -std=c++11\n",
        "CFLAGS += -I.\n",
        "CFLAGS += -Isource\n",
        "CFLAGS += -Iedge-impulse-sdk/\n",
        "CFLAGS += -Iedge-impulse-sdk/tensorflow\n",
        "CFLAGS += -Iedge-impulse-sdk/third_party\n",
        "CFLAGS += -Iedge-impulse-sdk/third_party/flatbuffers\n",
        "CFLAGS += -Iedge-impulse-sdk/third_party/flatbuffers/include\n",
        "CFLAGS += -Iedge-impulse-sdk/third_party/flatbuffers/include/flatbuffers\n",
        "CFLAGS += -Iedge-impulse-sdk/third_party/gemmlowp/\n",
        "CFLAGS += -Iedge-impulse-sdk/third_party/gemmlowp/fixedpoint\n",
        "CFLAGS += -Iedge-impulse-sdk/third_party/gemmlowp/internal\n",
        "CFLAGS += -Iedge-impulse-sdk/third_party/ruy\n",
        "CFLAGS += -Imodel-parameters\n",
        "CFLAGS += -Iedge-impulse-sdk/porting\n",
        "\n",
        "all: build\n",
        "\n",
        ".PHONY: build clean\n",
        "\n",
        "build:\n",
        "\tmkdir -p build\n",
        "\t$(CC) -c $(MACROS) $(CFLAGS) $(LFLAGS) edge-impulse-sdk/tensorflow/lite/c/common.c -o build/common.o\n",
        "\t$(CXX) $(MACROS) $(CXXFLAGS) $(CFLAGS) $(LFLAGS) source/*.cpp edge-impulse-sdk/tensorflow/lite/kernels/*.cc edge-impulse-sdk/tensorflow/lite/kernels/internal/*.cc edge-impulse-sdk/tensorflow/lite/micro/kernels/*.cc edge-impulse-sdk/tensorflow/lite/micro/*.cc edge-impulse-sdk/tensorflow/lite/micro/memory_planner/*.cc edge-impulse-sdk/tensorflow/lite/core/api/*.cc ./edge-impulse-sdk/dsp/memory.cpp edge-impulse-sdk/porting/posix/*.c* build/common.o -o build/$(NAME)\n",
        "\n",
        "clean:\n",
        "\trm $(NAME)\"\"\"\n",
        "\n",
        "from pathlib import Path\n",
        "Path(\"Makefile\").write_text(newmake)"
      ],
      "metadata": {
        "id": "qEjMzCSiV9jP"
      },
      "execution_count": null,
      "outputs": []
    },
    {
      "cell_type": "markdown",
      "source": [
        "build the calculator"
      ],
      "metadata": {
        "id": "kQgDmJRUYdNW"
      }
    },
    {
      "cell_type": "code",
      "source": [
        "!make"
      ],
      "metadata": {
        "id": "yNqmkrkGWVBZ"
      },
      "execution_count": null,
      "outputs": []
    },
    {
      "cell_type": "markdown",
      "source": [
        "Now drag your `.tflite` file (e.g., `person_detection.tflite`) into the file browser window on the left. You can then run the following cell to output the arena size:"
      ],
      "metadata": {
        "id": "AUNj5crTXdNt"
      }
    },
    {
      "cell_type": "code",
      "source": [
        "!build/find-arena-size /content/person_detection.tflite"
      ],
      "metadata": {
        "id": "3zGETPypXFoD"
      },
      "execution_count": null,
      "outputs": []
    }
  ]
}